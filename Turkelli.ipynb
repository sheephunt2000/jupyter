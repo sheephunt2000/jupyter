{
 "cells": [
  {
   "cell_type": "markdown",
   "id": "70966a9d-1115-4163-a4da-12dd3267ac5d",
   "metadata": {},
   "source": [
    "Define the group $G = C_3 \\wr C_4$, generators from [LMFDB](https://beta.lmfdb.org/Groups/Abstract/324.162). "
   ]
  },
  {
   "cell_type": "code",
   "execution_count": 1,
   "id": "3c5af914-3aa8-452c-94a8-9eb89469908e",
   "metadata": {},
   "outputs": [],
   "source": [
    "G = PermutationGroup(['(1,11)(2,7)(4,14)(5,10)(8,13)', '(1,4)(2,8)(7,13)(11,14)', '(1,6,11)(2,7,12)(3,8,13)(4,9,14)(5,10,15)', '(3,6,9,12,15)'])"
   ]
  },
  {
   "cell_type": "code",
   "execution_count": 2,
   "id": "ebd2401c-ebf9-4e07-ac1c-d85d78c4f05f",
   "metadata": {},
   "outputs": [
    {
     "data": {
      "text/plain": [
       "Permutation Group with generators [(3,6,9,12,15), (1,4)(2,8)(7,13)(11,14), (1,6,11)(2,7,12)(3,8,13)(4,9,14)(5,10,15), (1,11)(2,7)(4,14)(5,10)(8,13)]"
      ]
     },
     "execution_count": 2,
     "metadata": {},
     "output_type": "execute_result"
    }
   ],
   "source": [
    "G"
   ]
  },
  {
   "cell_type": "markdown",
   "id": "6770735e-440b-4b0c-9bfc-e39dc62a78c6",
   "metadata": {},
   "source": [
    "Recall that the index of an element $\\mathrm{ind}(g)$ for $g\\in G\\subset S_n$ is defined to be $n-\\#\\{\\text{cycles of }g\\}$. For the group $G$ this becomes $\\mathrm{ind}(G):=\\min_{g\\neq e}\\mathrm{ind}(g)$."
   ]
  },
  {
   "cell_type": "code",
   "execution_count": 3,
   "id": "804233c7-aa14-4fc9-b450-472e7c1e17a9",
   "metadata": {},
   "outputs": [],
   "source": [
    "def ind_element(g): # for a PermutationGroupElement g\n",
    "    return g.parent().degree() - len(g.cycle_type())"
   ]
  },
  {
   "cell_type": "code",
   "execution_count": 4,
   "id": "3bdbd676-81f5-45fa-87ea-1eb57fe7312d",
   "metadata": {},
   "outputs": [],
   "source": [
    "def ind(group): # for a PermutationGroup group\n",
    "    return min([ind_element(g) for g in group if g != PermutationGroupElement(())]) # minimum of the index of non-identity elements"
   ]
  },
  {
   "cell_type": "code",
   "execution_count": 5,
   "id": "7ea81ac8-a8de-429e-8cc4-05a06074e22b",
   "metadata": {},
   "outputs": [
    {
     "data": {
      "text/plain": [
       "4"
      ]
     },
     "execution_count": 5,
     "metadata": {},
     "output_type": "execute_result"
    }
   ],
   "source": [
    "ind(G)"
   ]
  },
  {
   "cell_type": "markdown",
   "id": "6cdbe00f-cfe7-4fb5-b2a8-711e904fedb5",
   "metadata": {},
   "source": [
    "Now we calculate $\\mathcal C_\\text{min}(G)$, which is the set of conjugacy classes $\\mathcal C$ with minimal $\\mathrm{ind}(\\mathcal C)$. (This is well defined since conjugation doesn't affect cycle type.)"
   ]
  },
  {
   "cell_type": "code",
   "execution_count": 6,
   "id": "83f4b583-2f67-45a4-8c33-ad5ee354ff86",
   "metadata": {},
   "outputs": [],
   "source": [
    "def min_conjugacy_classes(group): # for a PermutationGroup group\n",
    "    return [group.conjugacy_class(g) for g in group.conjugacy_classes_representatives() if ind_element(g) == ind(group)]"
   ]
  },
  {
   "cell_type": "code",
   "execution_count": 7,
   "id": "1e527aeb-9b61-417e-8474-9132153d941b",
   "metadata": {},
   "outputs": [],
   "source": [
    "#min_conjugacy_classes(G) # this is apparently super inefficient!"
   ]
  },
  {
   "cell_type": "markdown",
   "id": "3557fc3c-d0b0-4f09-9729-f8309e4baad0",
   "metadata": {},
   "source": [
    "Now following the advice we got we will compute $\\mathcal S_{\\text{min}}:=\\{x\\in G:\\mathrm{ind}(x)=\\mathrm{ind}(G)\\}$."
   ]
  },
  {
   "cell_type": "code",
   "execution_count": 8,
   "id": "0fe14e51-bbfe-48f5-9eb2-7adc02faffae",
   "metadata": {},
   "outputs": [],
   "source": [
    "def S_min(group):\n",
    "    index = ind(group)\n",
    "    return [g for g in group if ind_element(g) == index]"
   ]
  },
  {
   "cell_type": "code",
   "execution_count": 9,
   "id": "26b8c6a6-3b40-4d0b-bf80-c354fdcb19b6",
   "metadata": {},
   "outputs": [
    {
     "data": {
      "text/plain": [
       "[(3,15,12,9,6),\n",
       " (3,12,6,15,9),\n",
       " (3,9,15,6,12),\n",
       " (3,6,9,12,15),\n",
       " (2,14,11,8,5),\n",
       " (2,11,5,14,8),\n",
       " (2,8,14,5,11),\n",
       " (2,5,8,11,14),\n",
       " (1,13,10,7,4),\n",
       " (1,10,4,13,7),\n",
       " (1,7,13,4,10),\n",
       " (1,4,7,10,13),\n",
       " (4,13)(5,14)(7,10)(8,11),\n",
       " (2,14)(4,13)(5,11)(7,10),\n",
       " (2,11)(4,13)(5,8)(7,10),\n",
       " (2,8)(4,13)(7,10)(11,14),\n",
       " (2,5)(4,13)(7,10)(8,14),\n",
       " (1,13)(4,10)(5,14)(8,11),\n",
       " (1,13)(2,14)(4,10)(5,11),\n",
       " (1,13)(2,11)(4,10)(5,8),\n",
       " (1,13)(2,8)(4,10)(11,14),\n",
       " (1,13)(2,5)(4,10)(8,14),\n",
       " (1,10)(4,7)(5,14)(8,11),\n",
       " (1,10)(2,14)(4,7)(5,11),\n",
       " (1,10)(2,11)(4,7)(5,8),\n",
       " (1,10)(2,8)(4,7)(11,14),\n",
       " (1,10)(2,5)(4,7)(8,14),\n",
       " (1,7)(5,14)(8,11)(10,13),\n",
       " (1,7)(2,14)(5,11)(10,13),\n",
       " (1,7)(2,11)(5,8)(10,13),\n",
       " (1,7)(2,8)(10,13)(11,14),\n",
       " (1,7)(2,5)(8,14)(10,13),\n",
       " (1,4)(5,14)(7,13)(8,11),\n",
       " (1,4)(2,14)(5,11)(7,13),\n",
       " (1,4)(2,11)(5,8)(7,13),\n",
       " (1,4)(2,8)(7,13)(11,14),\n",
       " (1,4)(2,5)(7,13)(8,14),\n",
       " (5,14)(6,15)(8,11)(9,12),\n",
       " (3,15)(5,14)(6,12)(8,11),\n",
       " (3,12)(5,14)(6,9)(8,11),\n",
       " (3,9)(5,14)(8,11)(12,15),\n",
       " (3,6)(5,14)(8,11)(9,15),\n",
       " (2,14)(5,11)(6,15)(9,12),\n",
       " (2,14)(3,15)(5,11)(6,12),\n",
       " (2,14)(3,12)(5,11)(6,9),\n",
       " (2,14)(3,9)(5,11)(12,15),\n",
       " (2,14)(3,6)(5,11)(9,15),\n",
       " (2,11)(5,8)(6,15)(9,12),\n",
       " (2,11)(3,15)(5,8)(6,12),\n",
       " (2,11)(3,12)(5,8)(6,9),\n",
       " (2,11)(3,9)(5,8)(12,15),\n",
       " (2,11)(3,6)(5,8)(9,15),\n",
       " (2,8)(6,15)(9,12)(11,14),\n",
       " (2,8)(3,15)(6,12)(11,14),\n",
       " (2,8)(3,12)(6,9)(11,14),\n",
       " (2,8)(3,9)(11,14)(12,15),\n",
       " (2,8)(3,6)(9,15)(11,14),\n",
       " (2,5)(6,15)(8,14)(9,12),\n",
       " (2,5)(3,15)(6,12)(8,14),\n",
       " (2,5)(3,12)(6,9)(8,14),\n",
       " (2,5)(3,9)(8,14)(12,15),\n",
       " (2,5)(3,6)(8,14)(9,15),\n",
       " (4,13)(6,15)(7,10)(9,12),\n",
       " (3,15)(4,13)(6,12)(7,10),\n",
       " (3,12)(4,13)(6,9)(7,10),\n",
       " (3,9)(4,13)(7,10)(12,15),\n",
       " (3,6)(4,13)(7,10)(9,15),\n",
       " (1,13)(4,10)(6,15)(9,12),\n",
       " (1,13)(3,15)(4,10)(6,12),\n",
       " (1,13)(3,12)(4,10)(6,9),\n",
       " (1,13)(3,9)(4,10)(12,15),\n",
       " (1,13)(3,6)(4,10)(9,15),\n",
       " (1,10)(4,7)(6,15)(9,12),\n",
       " (1,10)(3,15)(4,7)(6,12),\n",
       " (1,10)(3,12)(4,7)(6,9),\n",
       " (1,10)(3,9)(4,7)(12,15),\n",
       " (1,10)(3,6)(4,7)(9,15),\n",
       " (1,7)(6,15)(9,12)(10,13),\n",
       " (1,7)(3,15)(6,12)(10,13),\n",
       " (1,7)(3,12)(6,9)(10,13),\n",
       " (1,7)(3,9)(10,13)(12,15),\n",
       " (1,7)(3,6)(9,15)(10,13),\n",
       " (1,4)(6,15)(7,13)(9,12),\n",
       " (1,4)(3,15)(6,12)(7,13),\n",
       " (1,4)(3,12)(6,9)(7,13),\n",
       " (1,4)(3,9)(7,13)(12,15),\n",
       " (1,4)(3,6)(7,13)(9,15)]"
      ]
     },
     "execution_count": 9,
     "metadata": {},
     "output_type": "execute_result"
    }
   ],
   "source": [
    "S_min(G)"
   ]
  },
  {
   "cell_type": "markdown",
   "id": "f34eebb1-a89a-4eb8-87be-64ed836a1383",
   "metadata": {},
   "source": [
    "We want to find the discriminant of number fields whose Galois groups $G\\subseteq S_n$ are such that $\\langle\\mathcal S_\\text{min}\\rangle=G$, but $b_T(G,\\mathbb Q)>b_M(G,\\mathbb Q)$. "
   ]
  },
  {
   "cell_type": "code",
   "execution_count": 10,
   "id": "83fa8a0d-de6a-4faa-90ed-2e23c6a168ad",
   "metadata": {},
   "outputs": [
    {
     "data": {
      "text/plain": [
       "False"
      ]
     },
     "execution_count": 10,
     "metadata": {},
     "output_type": "execute_result"
    }
   ],
   "source": [
    "G.subgroup(S_min(G)) == G"
   ]
  },
  {
   "cell_type": "code",
   "execution_count": 11,
   "id": "502c25c2-529d-43a5-b581-1484939df04d",
   "metadata": {},
   "outputs": [],
   "source": [
    "d = lcm([g.order() for g in S_min(G)])"
   ]
  },
  {
   "cell_type": "code",
   "execution_count": 12,
   "id": "46690dcd-c35f-4723-9606-adeb26f4ee16",
   "metadata": {},
   "outputs": [
    {
     "data": {
      "text/plain": [
       "10"
      ]
     },
     "execution_count": 12,
     "metadata": {},
     "output_type": "execute_result"
    }
   ],
   "source": [
    "d"
   ]
  },
  {
   "cell_type": "code",
   "execution_count": 13,
   "id": "7843c6f1-abaa-48b6-852a-0b2876d6551f",
   "metadata": {},
   "outputs": [],
   "source": [
    "gal_group = Zmod(d).list_of_elements_of_multiplicative_group() # elements of Z/dZ as integers"
   ]
  },
  {
   "cell_type": "code",
   "execution_count": 14,
   "id": "fd7829da-b31e-41ea-8b01-7e1d99dcd125",
   "metadata": {},
   "outputs": [],
   "source": [
    "absolute_action = lambda g, m, x: (g^-1)*(x^m)*g #defines action"
   ]
  },
  {
   "cell_type": "markdown",
   "id": "418ac0f4-3943-4c75-a321-bfb801f25b22",
   "metadata": {},
   "source": [
    "Use [Burnside's lemma](https://en.wikipedia.org/wiki/Burnside%27s_lemma) to count orbits: $|X/G| = \\frac{1}{|G|}\\sum_{g \\in G}|X^g|.$"
   ]
  },
  {
   "cell_type": "code",
   "execution_count": 15,
   "id": "043c5e4a-6c0b-4700-9dfb-a8a429dffe72",
   "metadata": {},
   "outputs": [],
   "source": [
    "def b_T(group): # for a number field\n",
    "    total = 0\n",
    "    X = S_min(group)\n",
    "    d = lcm([g.order() for g in X])\n",
    "    gal_group = Zmod(d).list_of_elements_of_multiplicative_group()\n",
    "    for g in group: \n",
    "        for n in gal_group:\n",
    "            total += len([x for x in X if absolute_action(g,n,x) == x]) # adds size of fixed point sets\n",
    "    return total / group.order()"
   ]
  },
  {
   "cell_type": "code",
   "execution_count": 16,
   "id": "1c5f92a8-ea77-49b9-bb28-6ca8150acc0d",
   "metadata": {},
   "outputs": [
    {
     "data": {
      "text/plain": [
       "8"
      ]
     },
     "execution_count": 16,
     "metadata": {},
     "output_type": "execute_result"
    }
   ],
   "source": [
    "b_T(G)"
   ]
  },
  {
   "cell_type": "code",
   "execution_count": null,
   "id": "e2f59acd-6d5c-4ae9-bdb4-63a1d7c2e0dc",
   "metadata": {},
   "outputs": [],
   "source": []
  }
 ],
 "metadata": {
  "kernelspec": {
   "display_name": "SageMath 10.4",
   "language": "sage",
   "name": "sagemath-10.4"
  },
  "language_info": {
   "codemirror_mode": {
    "name": "ipython",
    "version": 3
   },
   "file_extension": ".py",
   "mimetype": "text/x-python",
   "name": "python",
   "nbconvert_exporter": "python",
   "pygments_lexer": "ipython3",
   "version": "3.12.4"
  }
 },
 "nbformat": 4,
 "nbformat_minor": 5
}
