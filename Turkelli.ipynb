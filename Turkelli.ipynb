{
 "cells": [
  {
   "cell_type": "markdown",
   "id": "70966a9d-1115-4163-a4da-12dd3267ac5d",
   "metadata": {},
   "source": [
    "Define the group $G = C_3 \\wr C_4$, generators from [LMFDB](https://beta.lmfdb.org/Groups/Abstract/324.162). "
   ]
  },
  {
   "cell_type": "code",
   "execution_count": 1,
   "id": "3c5af914-3aa8-452c-94a8-9eb89469908e",
   "metadata": {},
   "outputs": [],
   "source": [
    "G = PermutationGroup(['(1,10,4,7)(2,11,5,8)(3,12,6,9)', '(1,3,2)(4,6,5)(7,9,8)(10,12,11)', '(1,4)(2,5)(3,6)(7,10)(8,11)(9,12)', '(7,8,9)(10,12,11)', '(1,2,3)(4,6,5)(7,8,9)(10,12,11)', '(1,3,2)(4,6,5)(7,8,9)(10,11,12)'])"
   ]
  },
  {
   "cell_type": "code",
   "execution_count": 2,
   "id": "ebd2401c-ebf9-4e07-ac1c-d85d78c4f05f",
   "metadata": {},
   "outputs": [
    {
     "data": {
      "text/plain": [
       "Permutation Group with generators [(7,8,9)(10,12,11), (1,2,3)(4,6,5)(7,8,9)(10,12,11), (1,3,2)(4,6,5)(7,8,9)(10,11,12), (1,3,2)(4,6,5)(7,9,8)(10,12,11), (1,4)(2,5)(3,6)(7,10)(8,11)(9,12), (1,10,4,7)(2,11,5,8)(3,12,6,9)]"
      ]
     },
     "execution_count": 2,
     "metadata": {},
     "output_type": "execute_result"
    }
   ],
   "source": [
    "G"
   ]
  },
  {
   "cell_type": "markdown",
   "id": "6770735e-440b-4b0c-9bfc-e39dc62a78c6",
   "metadata": {},
   "source": [
    "Recall that the index of an element $\\mathrm{ind}(g)$ for $g\\in G\\subset S_n$ is defined to be $n-\\#\\{\\text{cycles of }g\\}$. For the group $G$ this becomes $\\min_{g\\neq e}\\mathrm{ind}(g)$."
   ]
  },
  {
   "cell_type": "code",
   "execution_count": 3,
   "id": "804233c7-aa14-4fc9-b450-472e7c1e17a9",
   "metadata": {},
   "outputs": [],
   "source": [
    "def ind_element(g): # for a PermutationGroupElement g\n",
    "    return g.parent().degree() - len(g.cycle_type())"
   ]
  },
  {
   "cell_type": "code",
   "execution_count": 4,
   "id": "3bdbd676-81f5-45fa-87ea-1eb57fe7312d",
   "metadata": {},
   "outputs": [],
   "source": [
    "def ind(group): # for a PermutationGroup group\n",
    "    return min([ind_element(g) for g in group if g != PermutationGroupElement(())]) # minimum of the index of non-identity elements"
   ]
  },
  {
   "cell_type": "code",
   "execution_count": 5,
   "id": "7ea81ac8-a8de-429e-8cc4-05a06074e22b",
   "metadata": {},
   "outputs": [
    {
     "data": {
      "text/plain": [
       "2"
      ]
     },
     "execution_count": 5,
     "metadata": {},
     "output_type": "execute_result"
    }
   ],
   "source": [
    "ind(G)"
   ]
  },
  {
   "cell_type": "markdown",
   "id": "6cdbe00f-cfe7-4fb5-b2a8-711e904fedb5",
   "metadata": {},
   "source": [
    "Now we calculate $\\mathcal C_\\text{min}(G)$, which is the set of conjugacy classes $\\mathcal C$ with minimal $\\mathrm{ind}(\\mathcal C)$. (This is well defined since conjugation doesn't affect cycle type.)"
   ]
  },
  {
   "cell_type": "code",
   "execution_count": 8,
   "id": "83f4b583-2f67-45a4-8c33-ad5ee354ff86",
   "metadata": {},
   "outputs": [],
   "source": [
    "def min_conjugacy_classes(group): # for a PermutationGroup group\n",
    "    cl = group.conjugacy_classes_representatives()\n",
    "    return [group.conjugacy_class(g) for g in cl if ind_element(g) == ind(group)]"
   ]
  },
  {
   "cell_type": "code",
   "execution_count": 9,
   "id": "1e527aeb-9b61-417e-8474-9132153d941b",
   "metadata": {},
   "outputs": [
    {
     "data": {
      "text/plain": [
       "[Conjugacy class of (10,11,12) in Permutation Group with generators [(7,8,9)(10,12,11), (1,2,3)(4,6,5)(7,8,9)(10,12,11), (1,3,2)(4,6,5)(7,8,9)(10,11,12), (1,3,2)(4,6,5)(7,9,8)(10,12,11), (1,4)(2,5)(3,6)(7,10)(8,11)(9,12), (1,10,4,7)(2,11,5,8)(3,12,6,9)],\n",
       " Conjugacy class of (10,12,11) in Permutation Group with generators [(7,8,9)(10,12,11), (1,2,3)(4,6,5)(7,8,9)(10,12,11), (1,3,2)(4,6,5)(7,8,9)(10,11,12), (1,3,2)(4,6,5)(7,9,8)(10,12,11), (1,4)(2,5)(3,6)(7,10)(8,11)(9,12), (1,10,4,7)(2,11,5,8)(3,12,6,9)]]"
      ]
     },
     "execution_count": 9,
     "metadata": {},
     "output_type": "execute_result"
    }
   ],
   "source": [
    "min_conjugacy_classes(G)"
   ]
  },
  {
   "cell_type": "code",
   "execution_count": 10,
   "id": "8800f4a3-a7e0-450d-9e39-db5a80ac33cc",
   "metadata": {},
   "outputs": [
    {
     "data": {
      "text/plain": [
       "[(),\n",
       " (10,11,12),\n",
       " (10,12,11),\n",
       " (7,8,9)(10,11,12),\n",
       " (7,8,9)(10,12,11),\n",
       " (7,9,8)(10,12,11),\n",
       " (4,5,6)(10,11,12),\n",
       " (4,5,6)(10,12,11),\n",
       " (4,5,6)(7,8,9)(10,11,12),\n",
       " (4,5,6)(7,8,9)(10,12,11),\n",
       " (4,5,6)(7,9,8),\n",
       " (4,5,6)(7,9,8)(10,11,12),\n",
       " (4,5,6)(7,9,8)(10,12,11),\n",
       " (4,6,5)(10,12,11),\n",
       " (4,6,5)(7,8,9)(10,11,12),\n",
       " (4,6,5)(7,8,9)(10,12,11),\n",
       " (4,6,5)(7,9,8)(10,11,12),\n",
       " (4,6,5)(7,9,8)(10,12,11),\n",
       " (1,2,3)(4,5,6)(7,8,9)(10,11,12),\n",
       " (1,2,3)(4,5,6)(7,8,9)(10,12,11),\n",
       " (1,2,3)(4,5,6)(7,9,8)(10,12,11),\n",
       " (1,2,3)(4,6,5)(7,8,9)(10,12,11),\n",
       " (1,2,3)(4,6,5)(7,9,8)(10,12,11),\n",
       " (1,3,2)(4,6,5)(7,9,8)(10,12,11),\n",
       " (1,4)(2,5)(3,6)(7,10)(8,11)(9,12),\n",
       " (1,4)(2,5)(3,6)(7,10,8,11,9,12),\n",
       " (1,4)(2,5)(3,6)(7,10,9,12,8,11),\n",
       " (1,4,2,5,3,6)(7,10,8,11,9,12),\n",
       " (1,4,2,5,3,6)(7,10,9,12,8,11),\n",
       " (1,4,3,6,2,5)(7,10,9,12,8,11),\n",
       " (1,7,4,10)(2,8,5,11)(3,9,6,12),\n",
       " (1,7,4,10,2,8,5,11,3,9,6,12),\n",
       " (1,7,4,10,3,9,6,12,2,8,5,11),\n",
       " (1,10,4,7)(2,11,5,8)(3,12,6,9),\n",
       " (1,10,5,8,2,11,6,9,3,12,4,7),\n",
       " (1,10,6,9,3,12,5,8,2,11,4,7)]"
      ]
     },
     "execution_count": 10,
     "metadata": {},
     "output_type": "execute_result"
    }
   ],
   "source": [
    "G.conjugacy_classes_representatives()"
   ]
  },
  {
   "cell_type": "code",
   "execution_count": null,
   "id": "0fe14e51-bbfe-48f5-9eb2-7adc02faffae",
   "metadata": {},
   "outputs": [],
   "source": []
  }
 ],
 "metadata": {
  "kernelspec": {
   "display_name": "SageMath 10.4",
   "language": "sage",
   "name": "sagemath-10.4"
  },
  "language_info": {
   "codemirror_mode": {
    "name": "ipython",
    "version": 3
   },
   "file_extension": ".py",
   "mimetype": "text/x-python",
   "name": "python",
   "nbconvert_exporter": "python",
   "pygments_lexer": "ipython3",
   "version": "3.12.4"
  }
 },
 "nbformat": 4,
 "nbformat_minor": 5
}
