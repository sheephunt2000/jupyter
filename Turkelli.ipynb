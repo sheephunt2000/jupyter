{
 "cells": [
  {
   "cell_type": "markdown",
   "id": "70966a9d-1115-4163-a4da-12dd3267ac5d",
   "metadata": {},
   "source": [
    "Define the group $G = C_3 \\wr C_4$, generators from [LMFDB](https://beta.lmfdb.org/Groups/Abstract/324.162). "
   ]
  },
  {
   "cell_type": "code",
   "execution_count": 1,
   "id": "3c5af914-3aa8-452c-94a8-9eb89469908e",
   "metadata": {},
   "outputs": [],
   "source": [
    "G = PermutationGroup(['(1,10,4,7)(2,11,5,8)(3,12,6,9)', '(1,3,2)(4,6,5)(7,9,8)(10,12,11)', '(1,4)(2,5)(3,6)(7,10)(8,11)(9,12)', '(7,8,9)(10,12,11)', '(1,2,3)(4,6,5)(7,8,9)(10,12,11)', '(1,3,2)(4,6,5)(7,8,9)(10,11,12)'])"
   ]
  },
  {
   "cell_type": "code",
   "execution_count": 2,
   "id": "ebd2401c-ebf9-4e07-ac1c-d85d78c4f05f",
   "metadata": {},
   "outputs": [
    {
     "data": {
      "text/plain": [
       "Permutation Group with generators [(7,8,9)(10,12,11), (1,2,3)(4,6,5)(7,8,9)(10,12,11), (1,3,2)(4,6,5)(7,8,9)(10,11,12), (1,3,2)(4,6,5)(7,9,8)(10,12,11), (1,4)(2,5)(3,6)(7,10)(8,11)(9,12), (1,10,4,7)(2,11,5,8)(3,12,6,9)]"
      ]
     },
     "execution_count": 2,
     "metadata": {},
     "output_type": "execute_result"
    }
   ],
   "source": [
    "G"
   ]
  },
  {
   "cell_type": "markdown",
   "id": "6770735e-440b-4b0c-9bfc-e39dc62a78c6",
   "metadata": {},
   "source": [
    "Recall that the index of an element $\\mathrm{ind}(g)$ for $g\\in G\\subset S_n$ is defined to be $n-\\#\\{\\text{cycles of }g\\}$. For the group $G$ this becomes $\\mathrm{ind}(G):=\\min_{g\\neq e}\\mathrm{ind}(g)$."
   ]
  },
  {
   "cell_type": "code",
   "execution_count": 3,
   "id": "804233c7-aa14-4fc9-b450-472e7c1e17a9",
   "metadata": {},
   "outputs": [],
   "source": [
    "def ind_element(g): # for a PermutationGroupElement g\n",
    "    return g.parent().degree() - len(g.cycle_type())"
   ]
  },
  {
   "cell_type": "code",
   "execution_count": 4,
   "id": "3bdbd676-81f5-45fa-87ea-1eb57fe7312d",
   "metadata": {},
   "outputs": [],
   "source": [
    "def ind(group): # for a PermutationGroup group\n",
    "    return min([ind_element(g) for g in group if g != PermutationGroupElement(())]) # minimum of the index of non-identity elements"
   ]
  },
  {
   "cell_type": "code",
   "execution_count": 5,
   "id": "7ea81ac8-a8de-429e-8cc4-05a06074e22b",
   "metadata": {},
   "outputs": [
    {
     "data": {
      "text/plain": [
       "2"
      ]
     },
     "execution_count": 5,
     "metadata": {},
     "output_type": "execute_result"
    }
   ],
   "source": [
    "ind(G)"
   ]
  },
  {
   "cell_type": "markdown",
   "id": "6cdbe00f-cfe7-4fb5-b2a8-711e904fedb5",
   "metadata": {},
   "source": [
    "Now we calculate $\\mathcal C_\\text{min}(G)$, which is the set of conjugacy classes $\\mathcal C$ with minimal $\\mathrm{ind}(\\mathcal C)$. (This is well defined since conjugation doesn't affect cycle type.)"
   ]
  },
  {
   "cell_type": "code",
   "execution_count": 6,
   "id": "83f4b583-2f67-45a4-8c33-ad5ee354ff86",
   "metadata": {},
   "outputs": [],
   "source": [
    "def min_conjugacy_classes(group): # for a PermutationGroup group\n",
    "    return [group.conjugacy_class(g) for g in group.conjugacy_classes_representatives() if ind_element(g) == ind(group)]"
   ]
  },
  {
   "cell_type": "code",
   "execution_count": 7,
   "id": "1e527aeb-9b61-417e-8474-9132153d941b",
   "metadata": {},
   "outputs": [
    {
     "data": {
      "text/plain": [
       "[Conjugacy class of (10,11,12) in Permutation Group with generators [(7,8,9)(10,12,11), (1,2,3)(4,6,5)(7,8,9)(10,12,11), (1,3,2)(4,6,5)(7,8,9)(10,11,12), (1,3,2)(4,6,5)(7,9,8)(10,12,11), (1,4)(2,5)(3,6)(7,10)(8,11)(9,12), (1,10,4,7)(2,11,5,8)(3,12,6,9)],\n",
       " Conjugacy class of (10,12,11) in Permutation Group with generators [(7,8,9)(10,12,11), (1,2,3)(4,6,5)(7,8,9)(10,12,11), (1,3,2)(4,6,5)(7,8,9)(10,11,12), (1,3,2)(4,6,5)(7,9,8)(10,12,11), (1,4)(2,5)(3,6)(7,10)(8,11)(9,12), (1,10,4,7)(2,11,5,8)(3,12,6,9)]]"
      ]
     },
     "execution_count": 7,
     "metadata": {},
     "output_type": "execute_result"
    }
   ],
   "source": [
    "min_conjugacy_classes(G)"
   ]
  },
  {
   "cell_type": "markdown",
   "id": "3557fc3c-d0b0-4f09-9729-f8309e4baad0",
   "metadata": {},
   "source": [
    "Now following the advice we got we will compute $\\mathcal S_{\\text{min}}:=\\{x\\in G:\\mathrm{ind}(x)=\\mathrm{ind}(G)\\}$."
   ]
  },
  {
   "cell_type": "code",
   "execution_count": 8,
   "id": "0fe14e51-bbfe-48f5-9eb2-7adc02faffae",
   "metadata": {},
   "outputs": [],
   "source": [
    "def S_min(group):\n",
    "    index = ind(group)\n",
    "    return [g for g in group if ind_element(g) == index]"
   ]
  },
  {
   "cell_type": "code",
   "execution_count": 9,
   "id": "26b8c6a6-3b40-4d0b-bf80-c354fdcb19b6",
   "metadata": {},
   "outputs": [
    {
     "data": {
      "text/plain": [
       "[(10,11,12), (7,8,9), (4,5,6), (1,2,3), (10,12,11), (7,9,8), (4,6,5), (1,3,2)]"
      ]
     },
     "execution_count": 9,
     "metadata": {},
     "output_type": "execute_result"
    }
   ],
   "source": [
    "S_min(G)"
   ]
  },
  {
   "cell_type": "markdown",
   "id": "f34eebb1-a89a-4eb8-87be-64ed836a1383",
   "metadata": {},
   "source": [
    "We want to find the discriminant of number fields whose Galois groups $G\\subseteq S_n$ are such that $\\langle\\mathcal S_\\text{min}\\rangle=G$, but $b_T(G,\\mathbb Q)>b_M(G,\\mathbb Q)$. "
   ]
  },
  {
   "cell_type": "code",
   "execution_count": 10,
   "id": "83fa8a0d-de6a-4faa-90ed-2e23c6a168ad",
   "metadata": {},
   "outputs": [
    {
     "data": {
      "text/plain": [
       "False"
      ]
     },
     "execution_count": 10,
     "metadata": {},
     "output_type": "execute_result"
    }
   ],
   "source": [
    "G.subgroup(S_min(G)) == G"
   ]
  },
  {
   "cell_type": "code",
   "execution_count": 11,
   "id": "502c25c2-529d-43a5-b581-1484939df04d",
   "metadata": {},
   "outputs": [],
   "source": [
    "d = lcm([g.order() for g in S_min(G)])"
   ]
  },
  {
   "cell_type": "code",
   "execution_count": 12,
   "id": "46690dcd-c35f-4723-9606-adeb26f4ee16",
   "metadata": {},
   "outputs": [
    {
     "data": {
      "text/plain": [
       "3"
      ]
     },
     "execution_count": 12,
     "metadata": {},
     "output_type": "execute_result"
    }
   ],
   "source": [
    "d"
   ]
  },
  {
   "cell_type": "code",
   "execution_count": 27,
   "id": "7843c6f1-abaa-48b6-852a-0b2876d6551f",
   "metadata": {},
   "outputs": [],
   "source": [
    "gal_group = Zmod(d).list_of_elements_of_multiplicative_group() # elements of Z/dZ as integers"
   ]
  },
  {
   "cell_type": "code",
   "execution_count": 28,
   "id": "fd7829da-b31e-41ea-8b01-7e1d99dcd125",
   "metadata": {},
   "outputs": [],
   "source": [
    "absolute_action = lambda g, m, x: (g^-1)*(x^m)*g #defines action"
   ]
  },
  {
   "cell_type": "code",
   "execution_count": null,
   "id": "9aac06ea-80fb-40dd-9e14-054fccc5b4bd",
   "metadata": {},
   "outputs": [],
   "source": [
    "[absolute_action(g,m,x) for x in S_min(G) for m in gal_group for g in G]"
   ]
  },
  {
   "cell_type": "markdown",
   "id": "418ac0f4-3943-4c75-a321-bfb801f25b22",
   "metadata": {},
   "source": [
    "Use [Burnside's lemma](https://en.wikipedia.org/wiki/Burnside%27s_lemma) to count orbits: $|X/G| = \\frac{1}{|G|}\\sum_{g \\in G}|X^g|.$"
   ]
  },
  {
   "cell_type": "code",
   "execution_count": 38,
   "id": "043c5e4a-6c0b-4700-9dfb-a8a429dffe72",
   "metadata": {},
   "outputs": [],
   "source": [
    "def b_T(group): # for a number field\n",
    "    total = 0\n",
    "    X = S_min(group)\n",
    "    d = lcm([g.order() for g in X])\n",
    "    gal_group = Zmod(d).list_of_elements_of_multiplicative_group()\n",
    "    for g in group: \n",
    "        for n in gal_group:\n",
    "            total += len([x for x in X if absolute_action(g,n,x) == x]) # adds size of fixed point sets\n",
    "    return total/group.order()"
   ]
  },
  {
   "cell_type": "code",
   "execution_count": 39,
   "id": "1c5f92a8-ea77-49b9-bb28-6ca8150acc0d",
   "metadata": {},
   "outputs": [
    {
     "data": {
      "text/plain": [
       "2"
      ]
     },
     "execution_count": 39,
     "metadata": {},
     "output_type": "execute_result"
    }
   ],
   "source": [
    "b_T(G)"
   ]
  }
 ],
 "metadata": {
  "kernelspec": {
   "display_name": "SageMath 10.4",
   "language": "sage",
   "name": "sagemath"
  },
  "language_info": {
   "codemirror_mode": {
    "name": "ipython",
    "version": 3
   },
   "file_extension": ".py",
   "mimetype": "text/x-python",
   "name": "python",
   "nbconvert_exporter": "python",
   "pygments_lexer": "ipython3",
   "version": "3.11.10"
  }
 },
 "nbformat": 4,
 "nbformat_minor": 5
}
